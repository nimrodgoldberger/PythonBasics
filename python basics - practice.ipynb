{
 "cells": [
  {
   "cell_type": "markdown",
   "id": "d621be58-0154-42ee-8527-3d31dc30069d",
   "metadata": {
    "tags": []
   },
   "source": [
    "#### exercise 1.1: check if a list is a palindrome"
   ]
  },
  {
   "cell_type": "code",
   "execution_count": 5,
   "id": "a3c29dbc-2b1a-4622-89c7-509d029c26f4",
   "metadata": {
    "tags": []
   },
   "outputs": [
    {
     "name": "stdout",
     "output_type": "stream",
     "text": [
      "True\n",
      "True\n",
      "True\n",
      "False\n"
     ]
    }
   ],
   "source": [
    "# Testing if a given list is a palindrome\n",
    "\n",
    "plist1 = [1]  # true\n",
    "plist2 = [1, 2, 3, 4, 3, 2, 1]  # true\n",
    "plist3 = [1, 2, 3, 3, 2, 1]  # true\n",
    "not_plist = [1, 2, 3, 4, 5, 6, 7]  # false\n",
    "\n",
    "def is_palindrome(i_list):\n",
    "    return i_list == i_list[::-1]\n",
    "\n",
    "\n",
    "print(is_palindrome(plist1))\n",
    "print(is_palindrome(plist2))\n",
    "print(is_palindrome(plist3))\n",
    "print(is_palindrome(not_plist))"
   ]
  },
  {
   "cell_type": "markdown",
   "id": "2a423265-8481-4427-be40-604588a53265",
   "metadata": {},
   "source": [
    "#### exercise 1.2: check if a sentence is a palindrome, at the word level (not character-level)"
   ]
  },
  {
   "cell_type": "code",
   "execution_count": 9,
   "id": "dbe8d081-7741-42a9-be10-bdf4187e606d",
   "metadata": {},
   "outputs": [
    {
     "name": "stdout",
     "output_type": "stream",
     "text": [
      "True\n",
      "False\n"
     ]
    }
   ],
   "source": [
    "# Testing if a given sentence is a palindrome\n",
    "\n",
    "psentence = \"we like data science data like we\"  # true\n",
    "not_psentence = \"we like data science data science like we\"  # true\n",
    "\n",
    "plist4 = psentence.split()\n",
    "plist5 = not_psentence.split()\n",
    "\n",
    "print(plist4==plist4[::-1])\n",
    "print(plist5==plist5[::-1])"
   ]
  },
  {
   "cell_type": "markdown",
   "id": "9d6dd34d-4743-49ba-b91b-76fd2f7b1508",
   "metadata": {},
   "source": [
    "#### exercise 2.1: remove duplicate elements from a list, preserving the order of elements"
   ]
  },
  {
   "cell_type": "code",
   "execution_count": 21,
   "id": "1e2ce55f-e62f-42da-9f0c-ec7ee6672af5",
   "metadata": {},
   "outputs": [
    {
     "name": "stdout",
     "output_type": "stream",
     "text": [
      "[1, 7, 3, 4, 2, 5]\n"
     ]
    }
   ],
   "source": [
    "# Removing duplicate elements, while preserving the original order of elements in the list\n",
    "\n",
    "in_list = [1, 7, 3, 3, 4, 2, 4, 2, 5]  # the output list should be: [1, 7, 3, 4, 2, 5]\n",
    "\n",
    "for i in range(len(in_list) -2):\n",
    "    for j in range(i+1,len(in_list)-1):\n",
    "        if in_list[i]==in_list[j]:\n",
    "            del in_list[j]\n",
    "print(in_list)"
   ]
  },
  {
   "cell_type": "markdown",
   "id": "57437082-c383-41ac-9dc1-2af66a16796e",
   "metadata": {},
   "source": [
    "#### exercise 2.2: remove duplicate elements from a list, preserving the order of elements (fast)"
   ]
  },
  {
   "cell_type": "code",
   "execution_count": 60,
   "id": "ff6039d3-d9b7-4bb3-9724-7fe1b280d74e",
   "metadata": {},
   "outputs": [
    {
     "name": "stdout",
     "output_type": "stream",
     "text": [
      "[2, 1, 5, 9, 6, 3, 4, 8, 7]\n"
     ]
    }
   ],
   "source": [
    "# Faster option using list comprehension for O(n) time complexity\n",
    "\n",
    "import random\n",
    "from collections import OrderedDict\n",
    "\n",
    "in_list = [random.randint(1, 10000) for _ in range(50000)]\n",
    "seen = set()\n",
    "in_list = [x for x in in_list if not (x in seen or seen.add(x))]\n",
    "in_list2 = [x for x in in_list if x<10]\n",
    "#print(in_list)\n",
    "print(in_list2)"
   ]
  },
  {
   "cell_type": "markdown",
   "id": "9290a1bd-83b9-4764-ae90-6f949e9673db",
   "metadata": {},
   "source": [
    "#### exercise 3: invert a dictionary - values are keys and keys are values"
   ]
  },
  {
   "cell_type": "code",
   "execution_count": 66,
   "id": "72c55b98-74a5-46e9-9705-18fc84409f15",
   "metadata": {},
   "outputs": [
    {
     "name": "stdout",
     "output_type": "stream",
     "text": [
      "{1995: 111, 1996: 333, 1997: 666, 1998: 555}\n"
     ]
    }
   ],
   "source": [
    "# Swapping keys and values in a dictionary\n",
    "\n",
    "student_to_birthyear = {111:1995, 222:1996, 333:1996, 444:1997, 555:1998, 666:1997}\n",
    "\n",
    "dict1 = dict()\n",
    "for (key,value) in student_to_birthyear.items():\n",
    "    dict1[value]=key\n",
    "print(dict1)"
   ]
  }
 ],
 "metadata": {
  "kernelspec": {
   "display_name": "Python 3 (ipykernel)",
   "language": "python",
   "name": "python3"
  },
  "language_info": {
   "codemirror_mode": {
    "name": "ipython",
    "version": 3
   },
   "file_extension": ".py",
   "mimetype": "text/x-python",
   "name": "python",
   "nbconvert_exporter": "python",
   "pygments_lexer": "ipython3",
   "version": "3.10.8"
  }
 },
 "nbformat": 4,
 "nbformat_minor": 5
}
